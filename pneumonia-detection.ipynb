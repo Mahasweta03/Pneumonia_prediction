{
 "cells": [
  {
   "cell_type": "code",
   "execution_count": 1,
   "id": "ba23f455",
   "metadata": {},
   "outputs": [
    {
     "name": "stdout",
     "output_type": "stream",
     "text": [
      "Requirement already satisfied: pip in c:\\users\\91759\\appdata\\local\\programs\\python\\python311\\lib\\site-packages (23.3.2)\n",
      "Note: you may need to restart the kernel to use updated packages.\n"
     ]
    }
   ],
   "source": [
    "%pip install pip\n"
   ]
  },
  {
   "cell_type": "code",
   "execution_count": 2,
   "id": "d0caff99",
   "metadata": {},
   "outputs": [
    {
     "name": "stdout",
     "output_type": "stream",
     "text": [
      "Requirement already satisfied: opencv-python in c:\\users\\91759\\appdata\\local\\programs\\python\\python311\\lib\\site-packages (4.9.0.80)Note: you may need to restart the kernel to use updated packages.\n",
      "\n",
      "Requirement already satisfied: numpy>=1.21.2 in c:\\users\\91759\\appdata\\local\\programs\\python\\python311\\lib\\site-packages (from opencv-python) (1.26.1)\n"
     ]
    }
   ],
   "source": [
    "%pip install opencv-python\n"
   ]
  },
  {
   "cell_type": "code",
   "execution_count": 3,
   "id": "5682aa65",
   "metadata": {
    "_cell_guid": "b1076dfc-b9ad-4769-8c92-a6c4dae69d19",
    "_uuid": "8f2839f25d086af736a60e9eeb907d3b93b6e0e5",
    "execution": {
     "iopub.execute_input": "2023-12-28T18:26:13.367466Z",
     "iopub.status.busy": "2023-12-28T18:26:13.367030Z",
     "iopub.status.idle": "2023-12-28T18:26:13.770054Z",
     "shell.execute_reply": "2023-12-28T18:26:13.768953Z"
    },
    "papermill": {
     "duration": 0.412969,
     "end_time": "2023-12-28T18:26:13.772650",
     "exception": false,
     "start_time": "2023-12-28T18:26:13.359681",
     "status": "completed"
    },
    "tags": []
   },
   "outputs": [],
   "source": [
    "\n",
    "import numpy as np \n",
    "import pandas as pd \n",
    "\n",
    "\n",
    "import os\n",
    "\n",
    "import cv2"
   ]
  },
  {
   "cell_type": "code",
   "execution_count": 4,
   "id": "b57efcb8",
   "metadata": {
    "execution": {
     "iopub.execute_input": "2023-12-28T18:26:13.785057Z",
     "iopub.status.busy": "2023-12-28T18:26:13.784524Z",
     "iopub.status.idle": "2023-12-28T18:26:13.789471Z",
     "shell.execute_reply": "2023-12-28T18:26:13.788551Z"
    },
    "papermill": {
     "duration": 0.013438,
     "end_time": "2023-12-28T18:26:13.791477",
     "exception": false,
     "start_time": "2023-12-28T18:26:13.778039",
     "status": "completed"
    },
    "tags": []
   },
   "outputs": [],
   "source": [
    "import warnings\n",
    "warnings.filterwarnings('ignore')"
   ]
  },
  {
   "cell_type": "code",
   "execution_count": 5,
   "id": "53d96861",
   "metadata": {
    "execution": {
     "iopub.execute_input": "2023-12-28T18:26:13.804128Z",
     "iopub.status.busy": "2023-12-28T18:26:13.803761Z",
     "iopub.status.idle": "2023-12-28T18:26:28.891850Z",
     "shell.execute_reply": "2023-12-28T18:26:28.890221Z"
    },
    "papermill": {
     "duration": 15.097537,
     "end_time": "2023-12-28T18:26:28.894891",
     "exception": false,
     "start_time": "2023-12-28T18:26:13.797354",
     "status": "completed"
    },
    "tags": []
   },
   "outputs": [
    {
     "name": "stdout",
     "output_type": "stream",
     "text": [
      "WARNING:tensorflow:From c:\\Users\\91759\\AppData\\Local\\Programs\\Python\\Python311\\Lib\\site-packages\\keras\\src\\losses.py:2976: The name tf.losses.sparse_softmax_cross_entropy is deprecated. Please use tf.compat.v1.losses.sparse_softmax_cross_entropy instead.\n",
      "\n"
     ]
    }
   ],
   "source": [
    "from tensorflow import keras\n",
    "from keras.models import Model , load_model\n",
    "from keras.applications.vgg16 import VGG16\n",
    "from keras.layers import  Dense, Flatten\n",
    "from keras.applications.vgg16 import preprocess_input\n",
    "from keras.preprocessing import image\n",
    "from keras.preprocessing.image import ImageDataGenerator \n",
    "from keras.models import Sequential\n",
    "import numpy as np\n",
    "from glob import glob\n",
    "import matplotlib.pyplot as plt\n"
   ]
  },
  {
   "cell_type": "code",
   "execution_count": 6,
   "id": "f0648200",
   "metadata": {
    "execution": {
     "iopub.execute_input": "2023-12-28T18:26:28.923604Z",
     "iopub.status.busy": "2023-12-28T18:26:28.922815Z",
     "iopub.status.idle": "2023-12-28T18:26:28.928826Z",
     "shell.execute_reply": "2023-12-28T18:26:28.927974Z"
    },
    "papermill": {
     "duration": 0.015535,
     "end_time": "2023-12-28T18:26:28.930972",
     "exception": false,
     "start_time": "2023-12-28T18:26:28.915437",
     "status": "completed"
    },
    "tags": []
   },
   "outputs": [],
   "source": [
    "IMAGE_SIZE = [224, 224]\n",
    "\n",
    "path_train = 'Chest X-Ray Images\\chest_xray\\chest_xray\\train'\n",
    "path_validation = 'Chest X-Ray Images\\chest_xray\\chest_xray\\val'"
   ]
  },
  {
   "cell_type": "code",
   "execution_count": 7,
   "id": "da46aae5",
   "metadata": {
    "execution": {
     "iopub.execute_input": "2023-12-28T18:26:28.943658Z",
     "iopub.status.busy": "2023-12-28T18:26:28.942946Z",
     "iopub.status.idle": "2023-12-28T18:26:30.222945Z",
     "shell.execute_reply": "2023-12-28T18:26:30.221813Z"
    },
    "papermill": {
     "duration": 1.289502,
     "end_time": "2023-12-28T18:26:30.225698",
     "exception": false,
     "start_time": "2023-12-28T18:26:28.936196",
     "status": "completed"
    },
    "tags": []
   },
   "outputs": [
    {
     "name": "stdout",
     "output_type": "stream",
     "text": [
      "WARNING:tensorflow:From c:\\Users\\91759\\AppData\\Local\\Programs\\Python\\Python311\\Lib\\site-packages\\keras\\src\\backend.py:1398: The name tf.executing_eagerly_outside_functions is deprecated. Please use tf.compat.v1.executing_eagerly_outside_functions instead.\n",
      "\n"
     ]
    }
   ],
   "source": [
    "vgg_model = VGG16(input_shape=IMAGE_SIZE + [3], weights='imagenet', include_top=False)"
   ]
  },
  {
   "cell_type": "code",
   "execution_count": 8,
   "id": "a6c24911",
   "metadata": {
    "execution": {
     "iopub.execute_input": "2023-12-28T18:26:30.239368Z",
     "iopub.status.busy": "2023-12-28T18:26:30.238934Z",
     "iopub.status.idle": "2023-12-28T18:26:30.245316Z",
     "shell.execute_reply": "2023-12-28T18:26:30.244034Z"
    },
    "papermill": {
     "duration": 0.016232,
     "end_time": "2023-12-28T18:26:30.247943",
     "exception": false,
     "start_time": "2023-12-28T18:26:30.231711",
     "status": "completed"
    },
    "tags": []
   },
   "outputs": [],
   "source": [
    "for layer in vgg_model.layers:\n",
    "    layer.trainable = False"
   ]
  },
  {
   "cell_type": "code",
   "execution_count": 9,
   "id": "51dedf01",
   "metadata": {
    "execution": {
     "iopub.execute_input": "2023-12-28T18:26:30.261998Z",
     "iopub.status.busy": "2023-12-28T18:26:30.261614Z",
     "iopub.status.idle": "2023-12-28T18:26:30.287731Z",
     "shell.execute_reply": "2023-12-28T18:26:30.286803Z"
    },
    "papermill": {
     "duration": 0.036186,
     "end_time": "2023-12-28T18:26:30.290337",
     "exception": false,
     "start_time": "2023-12-28T18:26:30.254151",
     "status": "completed"
    },
    "tags": []
   },
   "outputs": [],
   "source": [
    "folders = glob('../input/chest-xray-pneumonia/chest_xray/chest_xray/train/*')\n",
    "x = Flatten()(vgg_model.output)"
   ]
  },
  {
   "cell_type": "code",
   "execution_count": 10,
   "id": "94b1fd65",
   "metadata": {
    "execution": {
     "iopub.execute_input": "2023-12-28T18:26:30.304147Z",
     "iopub.status.busy": "2023-12-28T18:26:30.303094Z",
     "iopub.status.idle": "2023-12-28T18:26:30.394885Z",
     "shell.execute_reply": "2023-12-28T18:26:30.392920Z"
    },
    "papermill": {
     "duration": 0.116069,
     "end_time": "2023-12-28T18:26:30.412170",
     "exception": false,
     "start_time": "2023-12-28T18:26:30.296101",
     "status": "completed"
    },
    "tags": []
   },
   "outputs": [
    {
     "name": "stdout",
     "output_type": "stream",
     "text": [
      "Model: \"model\"\n",
      "_________________________________________________________________\n",
      " Layer (type)                Output Shape              Param #   \n",
      "=================================================================\n",
      " input_1 (InputLayer)        [(None, 224, 224, 3)]     0         \n",
      "                                                                 \n",
      " block1_conv1 (Conv2D)       (None, 224, 224, 64)      1792      \n",
      "                                                                 \n",
      " block1_conv2 (Conv2D)       (None, 224, 224, 64)      36928     \n",
      "                                                                 \n",
      " block1_pool (MaxPooling2D)  (None, 112, 112, 64)      0         \n",
      "                                                                 \n",
      " block2_conv1 (Conv2D)       (None, 112, 112, 128)     73856     \n",
      "                                                                 \n",
      " block2_conv2 (Conv2D)       (None, 112, 112, 128)     147584    \n",
      "                                                                 \n",
      " block2_pool (MaxPooling2D)  (None, 56, 56, 128)       0         \n",
      "                                                                 \n",
      " block3_conv1 (Conv2D)       (None, 56, 56, 256)       295168    \n",
      "                                                                 \n",
      " block3_conv2 (Conv2D)       (None, 56, 56, 256)       590080    \n",
      "                                                                 \n",
      " block3_conv3 (Conv2D)       (None, 56, 56, 256)       590080    \n",
      "                                                                 \n",
      " block3_pool (MaxPooling2D)  (None, 28, 28, 256)       0         \n",
      "                                                                 \n",
      " block4_conv1 (Conv2D)       (None, 28, 28, 512)       1180160   \n",
      "                                                                 \n",
      " block4_conv2 (Conv2D)       (None, 28, 28, 512)       2359808   \n",
      "                                                                 \n",
      " block4_conv3 (Conv2D)       (None, 28, 28, 512)       2359808   \n",
      "                                                                 \n",
      " block4_pool (MaxPooling2D)  (None, 14, 14, 512)       0         \n",
      "                                                                 \n",
      " block5_conv1 (Conv2D)       (None, 14, 14, 512)       2359808   \n",
      "                                                                 \n",
      " block5_conv2 (Conv2D)       (None, 14, 14, 512)       2359808   \n",
      "                                                                 \n",
      " block5_conv3 (Conv2D)       (None, 14, 14, 512)       2359808   \n",
      "                                                                 \n",
      " block5_pool (MaxPooling2D)  (None, 7, 7, 512)         0         \n",
      "                                                                 \n",
      " flatten (Flatten)           (None, 25088)             0         \n",
      "                                                                 \n",
      " dense (Dense)               (None, 0)                 0         \n",
      "                                                                 \n",
      "=================================================================\n",
      "Total params: 14714688 (56.13 MB)\n",
      "Trainable params: 0 (0.00 Byte)\n",
      "Non-trainable params: 14714688 (56.13 MB)\n",
      "_________________________________________________________________\n"
     ]
    }
   ],
   "source": [
    "prediction = Dense(len(folders), activation='softmax')(x)\n",
    "model = Model(inputs=vgg_model.input, outputs=prediction)\n",
    "model.summary()"
   ]
  },
  {
   "cell_type": "code",
   "execution_count": 11,
   "id": "9f019f0a",
   "metadata": {
    "execution": {
     "iopub.execute_input": "2023-12-28T18:26:30.441363Z",
     "iopub.status.busy": "2023-12-28T18:26:30.440751Z",
     "iopub.status.idle": "2023-12-28T18:26:30.467474Z",
     "shell.execute_reply": "2023-12-28T18:26:30.466153Z"
    },
    "papermill": {
     "duration": 0.048842,
     "end_time": "2023-12-28T18:26:30.470302",
     "exception": false,
     "start_time": "2023-12-28T18:26:30.421460",
     "status": "completed"
    },
    "tags": []
   },
   "outputs": [
    {
     "name": "stdout",
     "output_type": "stream",
     "text": [
      "WARNING:tensorflow:From c:\\Users\\91759\\AppData\\Local\\Programs\\Python\\Python311\\Lib\\site-packages\\keras\\src\\optimizers\\__init__.py:309: The name tf.train.Optimizer is deprecated. Please use tf.compat.v1.train.Optimizer instead.\n",
      "\n"
     ]
    }
   ],
   "source": [
    "model.compile(\n",
    "  loss='categorical_crossentropy',\n",
    "  optimizer='adam',\n",
    "  metrics=['accuracy']\n",
    ")"
   ]
  },
  {
   "cell_type": "code",
   "execution_count": 12,
   "id": "d2e9a852",
   "metadata": {
    "execution": {
     "iopub.execute_input": "2023-12-28T18:26:30.494045Z",
     "iopub.status.busy": "2023-12-28T18:26:30.492602Z",
     "iopub.status.idle": "2023-12-28T18:26:35.291746Z",
     "shell.execute_reply": "2023-12-28T18:26:35.290476Z"
    },
    "papermill": {
     "duration": 4.813231,
     "end_time": "2023-12-28T18:26:35.294343",
     "exception": false,
     "start_time": "2023-12-28T18:26:30.481112",
     "status": "completed"
    },
    "tags": []
   },
   "outputs": [
    {
     "name": "stdout",
     "output_type": "stream",
     "text": [
      "Found 5216 images belonging to 2 classes.\n",
      "Found 624 images belonging to 2 classes.\n"
     ]
    }
   ],
   "source": [
    "train_datagen = ImageDataGenerator(rescale = 1./255,\n",
    "                                   shear_range = 0.2,\n",
    "                                   zoom_range = 0.2,\n",
    "                                   horizontal_flip = True)\n",
    "\n",
    "test_datagen = ImageDataGenerator(rescale = 1./255)\n",
    "\n",
    "training_data = train_datagen.flow_from_directory('Chest X-Ray Images\\\\chest_xray\\\\chest_xray\\\\train',\n",
    "                                                 target_size = (224, 224),\n",
    "                                                 batch_size = 10,\n",
    "                                                 class_mode = 'categorical')\n",
    "testing_data = test_datagen.flow_from_directory('Chest X-Ray Images\\\\chest_xray\\\\chest_xray\\\\test',\n",
    "                                            target_size = (224, 224),\n",
    "                                            batch_size = 10,\n",
    "                                            class_mode = 'categorical')"
   ]
  },
  {
   "cell_type": "code",
   "execution_count": 13,
   "id": "0b7e7f75",
   "metadata": {
    "execution": {
     "iopub.execute_input": "2023-12-28T18:26:35.315021Z",
     "iopub.status.busy": "2023-12-28T18:26:35.314311Z",
     "iopub.status.idle": "2023-12-28T18:51:20.077339Z",
     "shell.execute_reply": "2023-12-28T18:51:20.075779Z"
    },
    "papermill": {
     "duration": 1484.818357,
     "end_time": "2023-12-28T18:51:20.122114",
     "exception": false,
     "start_time": "2023-12-28T18:26:35.303757",
     "status": "completed"
    },
    "tags": []
   },
   "outputs": [
    {
     "name": "stdout",
     "output_type": "stream",
     "text": [
      "WARNING:tensorflow:From c:\\Users\\91759\\AppData\\Local\\Programs\\Python\\Python311\\Lib\\site-packages\\keras\\src\\utils\\tf_utils.py:492: The name tf.ragged.RaggedTensorValue is deprecated. Please use tf.compat.v1.ragged.RaggedTensorValue instead.\n",
      "\n"
     ]
    },
    {
     "ename": "",
     "evalue": "",
     "output_type": "error",
     "traceback": [
      "\u001b[1;31mThe Kernel crashed while executing code in the the current cell or a previous cell. Please review the code in the cell(s) to identify a possible cause of the failure. Click <a href='https://aka.ms/vscodeJupyterKernelCrash'>here</a> for more info. View Jupyter <a href='command:jupyter.viewOutput'>log</a> for further details."
     ]
    }
   ],
   "source": [
    "history = model.fit_generator(\n",
    "  training_data,\n",
    "  validation_data=testing_data,\n",
    "  epochs=1,\n",
    "  steps_per_epoch=len(training_data),\n",
    "  validation_steps=len(testing_data),\n",
    ")"
   ]
  },
  {
   "cell_type": "code",
   "execution_count": null,
   "id": "d011c5cb",
   "metadata": {
    "execution": {
     "iopub.execute_input": "2023-12-28T18:51:20.210056Z",
     "iopub.status.busy": "2023-12-28T18:51:20.209242Z",
     "iopub.status.idle": "2023-12-28T18:51:20.359181Z",
     "shell.execute_reply": "2023-12-28T18:51:20.358335Z"
    },
    "papermill": {
     "duration": 0.196254,
     "end_time": "2023-12-28T18:51:20.361676",
     "exception": false,
     "start_time": "2023-12-28T18:51:20.165422",
     "status": "completed"
    },
    "tags": []
   },
   "outputs": [],
   "source": [
    "model.save('chest_xray.h5')"
   ]
  },
  {
   "cell_type": "code",
   "execution_count": null,
   "id": "b5b3fd22",
   "metadata": {
    "execution": {
     "iopub.execute_input": "2023-12-28T18:51:20.449063Z",
     "iopub.status.busy": "2023-12-28T18:51:20.448431Z",
     "iopub.status.idle": "2023-12-28T18:51:20.911240Z",
     "shell.execute_reply": "2023-12-28T18:51:20.910337Z"
    },
    "papermill": {
     "duration": 0.509521,
     "end_time": "2023-12-28T18:51:20.913691",
     "exception": false,
     "start_time": "2023-12-28T18:51:20.404170",
     "status": "completed"
    },
    "tags": []
   },
   "outputs": [],
   "source": [
    "model=load_model('chest_xray.h5')"
   ]
  },
  {
   "cell_type": "code",
   "execution_count": null,
   "id": "4af59039",
   "metadata": {
    "execution": {
     "iopub.execute_input": "2023-12-28T18:51:21.002151Z",
     "iopub.status.busy": "2023-12-28T18:51:21.000965Z",
     "iopub.status.idle": "2023-12-28T18:51:21.058900Z",
     "shell.execute_reply": "2023-12-28T18:51:21.057764Z"
    },
    "papermill": {
     "duration": 0.105701,
     "end_time": "2023-12-28T18:51:21.061613",
     "exception": false,
     "start_time": "2023-12-28T18:51:20.955912",
     "status": "completed"
    },
    "tags": []
   },
   "outputs": [],
   "source": [
    "img=image.load_img('Chest X-Ray Images\\chest_xray\\chest_xray\\val\\NORMAL\\NORMAL2-IM-1430-0001.jpeg')\n",
    "resized_img = cv2.resize(np.array(img), (224, 224))"
   ]
  },
  {
   "cell_type": "code",
   "execution_count": null,
   "id": "40e87832",
   "metadata": {
    "execution": {
     "iopub.execute_input": "2023-12-28T18:51:21.148196Z",
     "iopub.status.busy": "2023-12-28T18:51:21.147839Z",
     "iopub.status.idle": "2023-12-28T18:51:21.152988Z",
     "shell.execute_reply": "2023-12-28T18:51:21.151760Z"
    },
    "papermill": {
     "duration": 0.05078,
     "end_time": "2023-12-28T18:51:21.155059",
     "exception": false,
     "start_time": "2023-12-28T18:51:21.104279",
     "status": "completed"
    },
    "tags": []
   },
   "outputs": [],
   "source": [
    "i = image.img_to_array(resized_img)"
   ]
  },
  {
   "cell_type": "code",
   "execution_count": null,
   "id": "99a96d69",
   "metadata": {
    "execution": {
     "iopub.execute_input": "2023-12-28T18:51:21.241230Z",
     "iopub.status.busy": "2023-12-28T18:51:21.240853Z",
     "iopub.status.idle": "2023-12-28T18:51:21.245395Z",
     "shell.execute_reply": "2023-12-28T18:51:21.244611Z"
    },
    "papermill": {
     "duration": 0.049871,
     "end_time": "2023-12-28T18:51:21.247203",
     "exception": false,
     "start_time": "2023-12-28T18:51:21.197332",
     "status": "completed"
    },
    "tags": []
   },
   "outputs": [],
   "source": [
    "i = np.expand_dims(i, axis=0)"
   ]
  },
  {
   "cell_type": "code",
   "execution_count": null,
   "id": "c59af8ee",
   "metadata": {
    "execution": {
     "iopub.execute_input": "2023-12-28T18:51:21.333991Z",
     "iopub.status.busy": "2023-12-28T18:51:21.333077Z",
     "iopub.status.idle": "2023-12-28T18:51:21.338080Z",
     "shell.execute_reply": "2023-12-28T18:51:21.337165Z"
    },
    "papermill": {
     "duration": 0.051081,
     "end_time": "2023-12-28T18:51:21.340280",
     "exception": false,
     "start_time": "2023-12-28T18:51:21.289199",
     "status": "completed"
    },
    "tags": []
   },
   "outputs": [],
   "source": [
    "img_data = preprocess_input(i)"
   ]
  },
  {
   "cell_type": "code",
   "execution_count": null,
   "id": "3705209e",
   "metadata": {
    "execution": {
     "iopub.execute_input": "2023-12-28T18:51:21.426848Z",
     "iopub.status.busy": "2023-12-28T18:51:21.425841Z",
     "iopub.status.idle": "2023-12-28T18:51:21.944088Z",
     "shell.execute_reply": "2023-12-28T18:51:21.943175Z"
    },
    "papermill": {
     "duration": 0.563719,
     "end_time": "2023-12-28T18:51:21.946339",
     "exception": false,
     "start_time": "2023-12-28T18:51:21.382620",
     "status": "completed"
    },
    "tags": []
   },
   "outputs": [],
   "source": [
    "classes = model.predict(img_data)"
   ]
  },
  {
   "cell_type": "code",
   "execution_count": null,
   "id": "ea6c991b",
   "metadata": {
    "execution": {
     "iopub.execute_input": "2023-12-28T18:51:22.033943Z",
     "iopub.status.busy": "2023-12-28T18:51:22.033530Z",
     "iopub.status.idle": "2023-12-28T18:51:22.038397Z",
     "shell.execute_reply": "2023-12-28T18:51:22.037288Z"
    },
    "papermill": {
     "duration": 0.051534,
     "end_time": "2023-12-28T18:51:22.040477",
     "exception": false,
     "start_time": "2023-12-28T18:51:21.988943",
     "status": "completed"
    },
    "tags": []
   },
   "outputs": [],
   "source": [
    "result=int(classes[0][0])"
   ]
  },
  {
   "cell_type": "code",
   "execution_count": null,
   "id": "146f712a",
   "metadata": {
    "execution": {
     "iopub.execute_input": "2023-12-28T18:51:22.130230Z",
     "iopub.status.busy": "2023-12-28T18:51:22.129823Z",
     "iopub.status.idle": "2023-12-28T18:51:22.135396Z",
     "shell.execute_reply": "2023-12-28T18:51:22.134314Z"
    },
    "papermill": {
     "duration": 0.053432,
     "end_time": "2023-12-28T18:51:22.137983",
     "exception": false,
     "start_time": "2023-12-28T18:51:22.084551",
     "status": "completed"
    },
    "tags": []
   },
   "outputs": [],
   "source": [
    "if result == 0:\n",
    "    print(\"Person is Affected By PNEUMONIA\")\n",
    "else:\n",
    "    print(\"Result is Normal\")"
   ]
  }
 ],
 "metadata": {
  "kaggle": {
   "accelerator": "none",
   "dataSources": [
    {
     "datasetId": 17810,
     "sourceId": 23812,
     "sourceType": "datasetVersion"
    }
   ],
   "dockerImageVersionId": 30626,
   "isGpuEnabled": false,
   "isInternetEnabled": true,
   "language": "python",
   "sourceType": "notebook"
  },
  "kernelspec": {
   "display_name": "Python 3",
   "language": "python",
   "name": "python3"
  },
  "language_info": {
   "codemirror_mode": {
    "name": "ipython",
    "version": 3
   },
   "file_extension": ".py",
   "mimetype": "text/x-python",
   "name": "python",
   "nbconvert_exporter": "python",
   "pygments_lexer": "ipython3",
   "version": "3.11.5"
  },
  "papermill": {
   "default_parameters": {},
   "duration": 1513.951841,
   "end_time": "2023-12-28T18:51:24.209039",
   "environment_variables": {},
   "exception": null,
   "input_path": "__notebook__.ipynb",
   "output_path": "__notebook__.ipynb",
   "parameters": {},
   "start_time": "2023-12-28T18:26:10.257198",
   "version": "2.4.0"
  }
 },
 "nbformat": 4,
 "nbformat_minor": 5
}
